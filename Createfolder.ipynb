{
 "cells": [
  {
   "cell_type": "code",
   "execution_count": 1,
   "id": "2d6288ea-a868-4f1e-8455-ff96e582d068",
   "metadata": {},
   "outputs": [],
   "source": [
    "import os"
   ]
  },
  {
   "cell_type": "code",
   "execution_count": 6,
   "id": "92243cbe-a719-4dfd-b7e4-5c428caa138c",
   "metadata": {},
   "outputs": [],
   "source": [
    "# 打开指定目录\n",
    "path = 'D:/QST_240325/drawing/Doc'\n",
    "os.chdir(path)\n",
    "\n",
    "\n",
    "# 创建新文件夹\n",
    "new_folder_01 = '01_system cert'\n",
    "new_folder_02 = '02_system qua'\n",
    "new_folder_03 = '03_depart'\n",
    "os.makedirs(new_folder_01)\n",
    "os.makedirs(new_folder_02)\n",
    "os.makedirs(new_folder_03)"
   ]
  },
  {
   "cell_type": "code",
   "execution_count": 10,
   "id": "5af09e37-ab15-4b58-86bd-c4e39c43a0f3",
   "metadata": {},
   "outputs": [],
   "source": [
    "path_02 = \"D:/QST_240325/drawing/Doc/02_qua_sys_mgm\"\n",
    "os.chdir(path_02)\n",
    "\n",
    "new_folder_04 = \"01_manual\"\n",
    "new_folder_05 = \"02_procedure\"\n",
    "new_folder_06 = \"03_Sop\"\n",
    "new_folder_07 = \"04_Template\"\n",
    "\n",
    "os.makedirs(new_folder_04)\n",
    "os.makedirs(new_folder_05)\n",
    "os.makedirs(new_folder_06)\n",
    "os.makedirs(new_folder_07)"
   ]
  },
  {
   "cell_type": "code",
   "execution_count": null,
   "id": "f54bb29d-c29b-4336-98f5-a6d29aefc0b7",
   "metadata": {},
   "outputs": [],
   "source": []
  }
 ],
 "metadata": {
  "kernelspec": {
   "display_name": "Python 3 (ipykernel)",
   "language": "python",
   "name": "python3"
  },
  "language_info": {
   "codemirror_mode": {
    "name": "ipython",
    "version": 3
   },
   "file_extension": ".py",
   "mimetype": "text/x-python",
   "name": "python",
   "nbconvert_exporter": "python",
   "pygments_lexer": "ipython3",
   "version": "3.12.2"
  }
 },
 "nbformat": 4,
 "nbformat_minor": 5
}
